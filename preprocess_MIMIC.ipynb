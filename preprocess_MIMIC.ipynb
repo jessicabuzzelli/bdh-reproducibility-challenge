{
 "cells": [
  {
   "cell_type": "code",
   "execution_count": 4,
   "metadata": {},
   "outputs": [],
   "source": [
    "import pandas as pd\n",
    "import numpy as np"
   ]
  },
  {
   "cell_type": "code",
   "execution_count": 3,
   "metadata": {},
   "outputs": [],
   "source": [
    "df = pd.read_csv(\"Survival-MDN/data/MIMIC/MIMIC_IV_SURVIVAL_MDN_DATA_EXTRACT.csv\")"
   ]
  },
  {
   "cell_type": "code",
   "execution_count": 5,
   "metadata": {},
   "outputs": [],
   "source": [
    "# 60 / 20 / 20 split across train / test / validation sets\n",
    "train, validate, test = np.split(\n",
    "    df.sample(frac=1, random_state=42), \n",
    "    [int(.6*len(df)), int(.8*len(df))]\n",
    ")"
   ]
  },
  {
   "cell_type": "code",
   "execution_count": 6,
   "metadata": {},
   "outputs": [
    {
     "data": {
      "text/plain": [
       "(30705, 138)"
      ]
     },
     "execution_count": 6,
     "metadata": {},
     "output_type": "execute_result"
    }
   ],
   "source": [
    "train.shape"
   ]
  },
  {
   "cell_type": "code",
   "execution_count": 7,
   "metadata": {},
   "outputs": [
    {
     "data": {
      "text/plain": [
       "(10235, 138)"
      ]
     },
     "execution_count": 7,
     "metadata": {},
     "output_type": "execute_result"
    }
   ],
   "source": [
    "validate.shape"
   ]
  },
  {
   "cell_type": "code",
   "execution_count": 8,
   "metadata": {},
   "outputs": [
    {
     "data": {
      "text/plain": [
       "(10235, 138)"
      ]
     },
     "execution_count": 8,
     "metadata": {},
     "output_type": "execute_result"
    }
   ],
   "source": [
    "test.shape"
   ]
  },
  {
   "cell_type": "code",
   "execution_count": 20,
   "metadata": {},
   "outputs": [
    {
     "name": "stdout",
     "output_type": "stream",
     "text": [
      "dataset: train, split: 1, size: (3070, 138)\n",
      "dataset: train, split: 2, size: (3070, 138)\n",
      "dataset: train, split: 3, size: (3070, 138)\n",
      "dataset: train, split: 4, size: (3070, 138)\n",
      "dataset: train, split: 5, size: (3070, 138)\n",
      "dataset: train, split: 6, size: (3070, 138)\n",
      "dataset: train, split: 7, size: (3070, 138)\n",
      "dataset: train, split: 8, size: (3070, 138)\n",
      "dataset: train, split: 9, size: (3070, 138)\n",
      "dataset: train, split: 10, size: (3075, 138)\n",
      "dataset: validate, split: 1, size: (1023, 138)\n",
      "dataset: validate, split: 2, size: (1023, 138)\n",
      "dataset: validate, split: 3, size: (1023, 138)\n",
      "dataset: validate, split: 4, size: (1023, 138)\n",
      "dataset: validate, split: 5, size: (1023, 138)\n",
      "dataset: validate, split: 6, size: (1023, 138)\n",
      "dataset: validate, split: 7, size: (1023, 138)\n",
      "dataset: validate, split: 8, size: (1023, 138)\n",
      "dataset: validate, split: 9, size: (1023, 138)\n",
      "dataset: validate, split: 10, size: (1028, 138)\n",
      "dataset: test, split: 1, size: (1023, 138)\n",
      "dataset: test, split: 2, size: (1023, 138)\n",
      "dataset: test, split: 3, size: (1023, 138)\n",
      "dataset: test, split: 4, size: (1023, 138)\n",
      "dataset: test, split: 5, size: (1023, 138)\n",
      "dataset: test, split: 6, size: (1023, 138)\n",
      "dataset: test, split: 7, size: (1023, 138)\n",
      "dataset: test, split: 8, size: (1023, 138)\n",
      "dataset: test, split: 9, size: (1023, 138)\n",
      "dataset: test, split: 10, size: (1028, 138)\n"
     ]
    }
   ],
   "source": [
    "for dataset, name in [(train, \"train\"), (validate, \"validate\"), (test, \"test\")]:\n",
    "    split_size = dataset.shape[0] // 10\n",
    "\n",
    "    for split in range(1, 11):\n",
    "\n",
    "        if split == 10:\n",
    "            sample = dataset.iloc[(split - 1) * split_size :, :]\n",
    "\n",
    "        else:\n",
    "            sample = dataset.iloc[(split - 1) * split_size : split * split_size, :]\n",
    "\n",
    "        print(f\"dataset: {name}, split: {split}, size: {sample.shape}\")\n",
    "        np.savez(f\"Survival-MDN/data/MIMIC/{name}_{split}.npz\")"
   ]
  },
  {
   "cell_type": "code",
   "execution_count": null,
   "metadata": {},
   "outputs": [],
   "source": []
  }
 ],
 "metadata": {
  "kernelspec": {
   "display_name": "bdh",
   "language": "python",
   "name": "bdh"
  },
  "language_info": {
   "codemirror_mode": {
    "name": "ipython",
    "version": 3
   },
   "file_extension": ".py",
   "mimetype": "text/x-python",
   "name": "python",
   "nbconvert_exporter": "python",
   "pygments_lexer": "ipython3",
   "version": "3.10.9"
  },
  "orig_nbformat": 4
 },
 "nbformat": 4,
 "nbformat_minor": 2
}
