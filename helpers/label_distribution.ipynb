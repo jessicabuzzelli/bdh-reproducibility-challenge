{
 "cells": [
  {
   "cell_type": "code",
   "execution_count": 1,
   "metadata": {},
   "outputs": [],
   "source": [
    "import numpy as np"
   ]
  },
  {
   "cell_type": "code",
   "execution_count": 2,
   "metadata": {},
   "outputs": [],
   "source": [
    "with open(\"appendix_A\", \"w\") as f:\n",
    "    for d in ['support', 'metabric', 'gbsg']:\n",
    "        for s in ['train', 'test', 'valid']:\n",
    "            for n in range(1, 11):\n",
    "                arr = np.load(f\"Survival-MDN/data/{d}/{s}_{n}.npz\")\n",
    "                f.write(f\"{d} {s}{n}: {round(arr['arr_1'][:, 1].mean(), 4)}\\n\")"
   ]
  },
  {
   "cell_type": "code",
   "execution_count": null,
   "metadata": {},
   "outputs": [],
   "source": []
  }
 ],
 "metadata": {
  "kernelspec": {
   "display_name": "bdh",
   "language": "python",
   "name": "bdh"
  },
  "language_info": {
   "codemirror_mode": {
    "name": "ipython",
    "version": 3
   },
   "file_extension": ".py",
   "mimetype": "text/x-python",
   "name": "python",
   "nbconvert_exporter": "python",
   "pygments_lexer": "ipython3",
   "version": "3.10.9"
  },
  "orig_nbformat": 4
 },
 "nbformat": 4,
 "nbformat_minor": 2
}
