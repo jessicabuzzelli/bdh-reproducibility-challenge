{
 "cells": [
  {
   "cell_type": "code",
   "execution_count": 2,
   "metadata": {},
   "outputs": [],
   "source": [
    "import pandas as pd\n",
    "import numpy as np"
   ]
  },
  {
   "cell_type": "code",
   "execution_count": 47,
   "metadata": {},
   "outputs": [],
   "source": [
    "df = pd.read_csv(\"Survival-MDN/data/MIMIC/MIMIC_IV_SURVIVAL_MDN_DATA_EXTRACT.csv\")\n",
    "df = df.drop(columns=[\"icu_intime\", \"dod\"])"
   ]
  },
  {
   "cell_type": "code",
   "execution_count": 48,
   "metadata": {},
   "outputs": [],
   "source": [
    "# 60 / 20 / 20 split across train / test / validation sets\n",
    "train, validate, test = np.split(\n",
    "    df.sample(frac=1, random_state=42), \n",
    "    [int(.6*len(df)), int(.8*len(df))]\n",
    ")"
   ]
  },
  {
   "cell_type": "code",
   "execution_count": 40,
   "metadata": {},
   "outputs": [
    {
     "data": {
      "text/plain": [
       "(30705, 137)"
      ]
     },
     "execution_count": 40,
     "metadata": {},
     "output_type": "execute_result"
    }
   ],
   "source": [
    "train.shape"
   ]
  },
  {
   "cell_type": "code",
   "execution_count": 41,
   "metadata": {},
   "outputs": [
    {
     "data": {
      "text/plain": [
       "(10235, 137)"
      ]
     },
     "execution_count": 41,
     "metadata": {},
     "output_type": "execute_result"
    }
   ],
   "source": [
    "validate.shape"
   ]
  },
  {
   "cell_type": "code",
   "execution_count": 42,
   "metadata": {},
   "outputs": [
    {
     "data": {
      "text/plain": [
       "(10235, 137)"
      ]
     },
     "execution_count": 42,
     "metadata": {},
     "output_type": "execute_result"
    }
   ],
   "source": [
    "test.shape"
   ]
  },
  {
   "cell_type": "code",
   "execution_count": 54,
   "metadata": {},
   "outputs": [
    {
     "name": "stdout",
     "output_type": "stream",
     "text": [
      "dataset: train, split: 1, size: (3070, 136)\n",
      "dataset: train, split: 2, size: (3070, 136)\n",
      "dataset: train, split: 3, size: (3070, 136)\n",
      "dataset: train, split: 4, size: (3070, 136)\n",
      "dataset: train, split: 5, size: (3070, 136)\n",
      "dataset: train, split: 6, size: (3070, 136)\n",
      "dataset: train, split: 7, size: (3070, 136)\n",
      "dataset: train, split: 8, size: (3070, 136)\n",
      "dataset: train, split: 9, size: (3070, 136)\n",
      "dataset: train, split: 10, size: (3075, 136)\n",
      "dataset: valid, split: 1, size: (1023, 136)\n",
      "dataset: valid, split: 2, size: (1023, 136)\n",
      "dataset: valid, split: 3, size: (1023, 136)\n",
      "dataset: valid, split: 4, size: (1023, 136)\n",
      "dataset: valid, split: 5, size: (1023, 136)\n",
      "dataset: valid, split: 6, size: (1023, 136)\n",
      "dataset: valid, split: 7, size: (1023, 136)\n",
      "dataset: valid, split: 8, size: (1023, 136)\n",
      "dataset: valid, split: 9, size: (1023, 136)\n",
      "dataset: valid, split: 10, size: (1028, 136)\n",
      "dataset: test, split: 1, size: (1023, 136)\n",
      "dataset: test, split: 2, size: (1023, 136)\n",
      "dataset: test, split: 3, size: (1023, 136)\n",
      "dataset: test, split: 4, size: (1023, 136)\n",
      "dataset: test, split: 5, size: (1023, 136)\n",
      "dataset: test, split: 6, size: (1023, 136)\n",
      "dataset: test, split: 7, size: (1023, 136)\n",
      "dataset: test, split: 8, size: (1023, 136)\n",
      "dataset: test, split: 9, size: (1023, 136)\n",
      "dataset: test, split: 10, size: (1028, 136)\n"
     ]
    }
   ],
   "source": [
    "for dataset, name in [(train, \"train\"), (validate, \"valid\"), (test, \"test\")]:\n",
    "    split_size = dataset.shape[0] // 10\n",
    "\n",
    "    for split in range(1, 11):\n",
    "\n",
    "        if split == 10:\n",
    "            sample = dataset.iloc[(split - 1) * split_size :, :]\n",
    "\n",
    "        else:\n",
    "            sample = dataset.iloc[(split - 1) * split_size : split * split_size, :]\n",
    "\n",
    "        sample = sample.fillna(0)\n",
    "        y = sample[[\"time_to_death\", \"death\"]]\n",
    "\n",
    "        x = sample.drop(columns=[\"time_to_death\", \"death\"])\n",
    "\n",
    "        print(f\"dataset: {name}, split: {split}, size: {sample.shape}\")\n",
    "        np.savez(f\"Survival-MDN/data/mimic/{name}_{split}.npz\", arr_0=x.values.astype(float), arr_1=y.values.astype(float))"
   ]
  },
  {
   "cell_type": "code",
   "execution_count": 50,
   "metadata": {},
   "outputs": [
    {
     "data": {
      "text/plain": [
       "array([[1.4503236e+07, 2.4833692e+07, 3.6982182e+07, ..., 1.0000000e+00,\n",
       "        0.0000000e+00, 0.0000000e+00],\n",
       "       [1.9249278e+07, 2.6007185e+07, 3.4156114e+07, ..., 0.0000000e+00,\n",
       "        1.0000000e+00, 0.0000000e+00],\n",
       "       [1.1779144e+07, 2.6842916e+07, 3.2688420e+07, ..., 1.0000000e+00,\n",
       "        0.0000000e+00, 0.0000000e+00],\n",
       "       ...,\n",
       "       [1.3903530e+07, 2.1068176e+07, 3.3455212e+07, ..., 0.0000000e+00,\n",
       "        1.0000000e+00, 0.0000000e+00],\n",
       "       [1.8272110e+07, 2.3054645e+07, 3.8071274e+07, ..., 0.0000000e+00,\n",
       "        0.0000000e+00, 2.0000000e+00],\n",
       "       [1.3025331e+07, 2.1458587e+07, 3.4164956e+07, ..., 4.0000000e+00,\n",
       "        0.0000000e+00, 2.0000000e+00]])"
      ]
     },
     "execution_count": 50,
     "metadata": {},
     "output_type": "execute_result"
    }
   ],
   "source": [
    "npz = np.load(\"Survival-MDN/data/mimic/train_1.npz\")\n",
    "npz.files\n",
    "npz[\"arr_0\"]"
   ]
  },
  {
   "cell_type": "code",
   "execution_count": 51,
   "metadata": {},
   "outputs": [
    {
     "data": {
      "text/plain": [
       "array([[  1.,   2.,   1., ...,   7.,  14.,  21.],\n",
       "       [  0.,   0.,   0., ...,   1.,  14.,   3.],\n",
       "       [  0.,   1.,   1., ...,   5.,   0., 124.],\n",
       "       ...,\n",
       "       [  1.,   2.,   1., ...,   1.,   0.,   4.],\n",
       "       [  0.,   1.,   1., ...,   9.,  16.,  43.],\n",
       "       [  0.,   0.,   1., ...,   1., 366.,  85.]])"
      ]
     },
     "execution_count": 51,
     "metadata": {},
     "output_type": "execute_result"
    }
   ],
   "source": [
    "npz = np.load(\"Survival-MDN/data/gbsg/test_1.npz\")\n",
    "npz.files\n",
    "npz[\"arr_0\"]"
   ]
  },
  {
   "cell_type": "code",
   "execution_count": null,
   "metadata": {},
   "outputs": [],
   "source": []
  }
 ],
 "metadata": {
  "kernelspec": {
   "display_name": "bdh",
   "language": "python",
   "name": "bdh"
  },
  "language_info": {
   "codemirror_mode": {
    "name": "ipython",
    "version": 3
   },
   "file_extension": ".py",
   "mimetype": "text/x-python",
   "name": "python",
   "nbconvert_exporter": "python",
   "pygments_lexer": "ipython3",
   "version": "3.10.9"
  },
  "orig_nbformat": 4
 },
 "nbformat": 4,
 "nbformat_minor": 2
}
